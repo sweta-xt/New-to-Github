{
  "nbformat": 4,
  "nbformat_minor": 0,
  "metadata": {
    "colab": {
      "name": "Blood cell classification.ipynb",
      "provenance": [],
      "authorship_tag": "ABX9TyMVArfnaX4nIGpDzvmboQoY",
      "include_colab_link": true
    },
    "kernelspec": {
      "name": "python3",
      "display_name": "Python 3"
    },
    "language_info": {
      "name": "python"
    },
    "accelerator": "GPU"
  },
  "cells": [
    {
      "cell_type": "markdown",
      "metadata": {
        "id": "view-in-github",
        "colab_type": "text"
      },
      "source": [
        "<a href=\"https://colab.research.google.com/github/sweta-xt/New-to-Github/blob/new-edits/Blood_cell_classification.ipynb\" target=\"_parent\"><img src=\"https://colab.research.google.com/assets/colab-badge.svg\" alt=\"Open In Colab\"/></a>"
      ]
    },
    {
      "cell_type": "markdown",
      "source": [
        "#Mount Google Drive on Colab"
      ],
      "metadata": {
        "id": "q23BSp5omDSo"
      }
    },
    {
      "cell_type": "code",
      "source": [
        "from google.colab import drive\n",
        "drive.mount('/content/drive')"
      ],
      "metadata": {
        "colab": {
          "base_uri": "https://localhost:8080/"
        },
        "id": "_Ug1PCaA1B4O",
        "outputId": "1bcd9402-6b5a-453b-9284-91fbc891981a"
      },
      "execution_count": null,
      "outputs": [
        {
          "output_type": "stream",
          "name": "stdout",
          "text": [
            "Mounted at /content/drive\n"
          ]
        }
      ]
    },
    {
      "cell_type": "markdown",
      "source": [
        "#Link to data - https://drive.google.com/drive/folders/1zRjroQ2-5hwwl3aLIX_2irxbEadR8gZl?usp=sharing "
      ],
      "metadata": {
        "id": "2M5hLrLKNCZF"
      }
    },
    {
      "cell_type": "code",
      "source": [
        "#import necessary libraries\n",
        "import tensorflow as tf\n",
        "from keras.layers import Input, Lambda, Dense, Flatten\n",
        "from keras.models import Model\n",
        "from keras.preprocessing import image\n",
        "from keras.preprocessing.image import ImageDataGenerator\n",
        "from keras.models import Sequential\n",
        "import numpy as np\n",
        "from glob import glob\n",
        "import matplotlib.pyplot as plt"
      ],
      "metadata": {
        "id": "Nz-TBVjO2RYt"
      },
      "execution_count": null,
      "outputs": []
    },
    {
      "cell_type": "code",
      "source": [
        "import tensorflow\n",
        "xyz=tensorflow.keras.preprocessing.image.ImageDataGenerator('/content/drive/MyDrive/blood cells/dataset2-master/dataset2-master/images',\n",
        "    \n",
        "    zoom_range=0.0,\n",
        "    channel_shift_range=0.0,\n",
        "    fill_mode=\"nearest\",\n",
        "    cval=0.0,\n",
        "    horizontal_flip=False,\n",
        "    vertical_flip=False,\n",
        "    rescale=None,\n",
        "    preprocessing_function=None,\n",
        "    data_format=None,\n",
        "    validation_split=0.2,\n",
        "    dtype=None,\n",
        ")"
      ],
      "metadata": {
        "id": "gBJKVtpc4Grk"
      },
      "execution_count": null,
      "outputs": []
    },
    {
      "cell_type": "code",
      "source": [
        "train_datagen=ImageDataGenerator(zoom_range=0.1,\n",
        "                                 horizontal_flip=True,\n",
        "                                 fill_mode='constant',\n",
        "                                 validation_split=0.2,\n",
        "                                 )\n",
        "\n",
        "#test_datagen=ImageDataGenerator(preprocessing_function=preprocess_input)"
      ],
      "metadata": {
        "id": "-r3gBHDD4zCb"
      },
      "execution_count": null,
      "outputs": []
    },
    {
      "cell_type": "code",
      "source": [
        "train_gen=train_datagen.flow_from_directory(\n",
        "    \"/content/drive/MyDrive/blood cells/dataset2-master/dataset2-master/images/TRAIN\",\n",
        "    target_size=(224, 224),\n",
        "    batch_size=64,\n",
        "    class_mode='categorical',\n",
        "    shuffle=True,\n",
        "    subset=\"training\"\n",
        ")"
      ],
      "metadata": {
        "colab": {
          "base_uri": "https://localhost:8080/"
        },
        "id": "uuJsPYBh7pP7",
        "outputId": "188fb117-dae1-4ad9-ba12-796e74e49b2b"
      },
      "execution_count": null,
      "outputs": [
        {
          "output_type": "stream",
          "name": "stdout",
          "text": [
            "Found 7968 images belonging to 4 classes.\n"
          ]
        }
      ]
    },
    {
      "cell_type": "code",
      "source": [
        "val_gen=train_datagen.flow_from_directory(\n",
        "    \"/content/drive/MyDrive/blood cells/dataset2-master/dataset2-master/images/TRAIN\",\n",
        "    target_size=(224, 224),\n",
        "    batch_size=32,\n",
        "    class_mode='categorical',\n",
        "    shuffle=True,\n",
        "    subset=\"validation\"\n",
        ")"
      ],
      "metadata": {
        "colab": {
          "base_uri": "https://localhost:8080/"
        },
        "id": "MJ4SZWQD8G--",
        "outputId": "48e954b2-95af-4fe1-ced5-f1317c434e3e"
      },
      "execution_count": null,
      "outputs": [
        {
          "output_type": "stream",
          "name": "stdout",
          "text": [
            "Found 1989 images belonging to 4 classes.\n"
          ]
        }
      ]
    },
    {
      "cell_type": "code",
      "source": [
        "from tensorflow.keras.layers import Input, Lambda, Dense, Flatten,Conv2D\n",
        "from tensorflow.keras.models import Model\n",
        "from tensorflow.keras.applications.vgg19 import VGG19\n",
        "from tensorflow.keras.applications.resnet50 import preprocess_input\n",
        "from tensorflow.keras.preprocessing import image\n",
        "from tensorflow.keras.preprocessing.image import ImageDataGenerator,load_img\n",
        "from tensorflow.keras.models import Sequential\n",
        "import numpy as np\n",
        "from glob import glob\n",
        "import matplotlib.pyplot as plt\n",
        "from tensorflow.keras.layers import MaxPooling2D"
      ],
      "metadata": {
        "id": "KE0-Y0-_8YFR"
      },
      "execution_count": null,
      "outputs": []
    },
    {
      "cell_type": "markdown",
      "source": [
        "#Building a model "
      ],
      "metadata": {
        "id": "U184Z44tmVb7"
      }
    },
    {
      "cell_type": "code",
      "source": [
        "model = Sequential()\n",
        "model.add(Conv2D(filters=16, kernel_size=2, padding='same', activation = 'relu', input_shape=(224,224,3) ))\n",
        "model.add(MaxPooling2D(pool_size=2))\n",
        "model.add(Conv2D(filters=16, kernel_size=2, padding='same', activation = 'relu'))\n",
        "model.add(MaxPooling2D(pool_size=2))\n",
        "model.add(Conv2D(filters=16, kernel_size=2, padding='same', activation = 'relu'))\n",
        "model.add(MaxPooling2D(pool_size=2))\n",
        "model.add(Conv2D(filters=16, kernel_size=2, padding='same', activation = 'relu'))\n",
        "model.add(MaxPooling2D(pool_size=2))\n",
        "model.add(Conv2D(filters=16, kernel_size=2, padding='same', activation = 'relu'))\n",
        "model.add(MaxPooling2D(pool_size=2))\n",
        "model.add(Flatten())\n",
        "model.add(Dense(500,activation='relu'))\n",
        "model.add(Dense(500,activation='relu'))\n",
        "model.add(Dense(500,activation='relu'))\n",
        "model.add(Dense(500,activation='relu'))\n",
        "model.add(Dense(500,activation='relu'))\n",
        "model.add(Dense(4,activation='softmax'))\n",
        "model.summary()\n"
      ],
      "metadata": {
        "colab": {
          "base_uri": "https://localhost:8080/"
        },
        "id": "GPwt5Opa81lE",
        "outputId": "1bc26672-da84-4f85-b39d-23d460ebf449"
      },
      "execution_count": null,
      "outputs": [
        {
          "output_type": "stream",
          "name": "stdout",
          "text": [
            "Model: \"sequential_5\"\n",
            "_________________________________________________________________\n",
            " Layer (type)                Output Shape              Param #   \n",
            "=================================================================\n",
            " conv2d_17 (Conv2D)          (None, 224, 224, 16)      208       \n",
            "                                                                 \n",
            " max_pooling2d_17 (MaxPoolin  (None, 112, 112, 16)     0         \n",
            " g2D)                                                            \n",
            "                                                                 \n",
            " conv2d_18 (Conv2D)          (None, 112, 112, 16)      1040      \n",
            "                                                                 \n",
            " max_pooling2d_18 (MaxPoolin  (None, 56, 56, 16)       0         \n",
            " g2D)                                                            \n",
            "                                                                 \n",
            " conv2d_19 (Conv2D)          (None, 56, 56, 16)        1040      \n",
            "                                                                 \n",
            " max_pooling2d_19 (MaxPoolin  (None, 28, 28, 16)       0         \n",
            " g2D)                                                            \n",
            "                                                                 \n",
            " conv2d_20 (Conv2D)          (None, 28, 28, 16)        1040      \n",
            "                                                                 \n",
            " max_pooling2d_20 (MaxPoolin  (None, 14, 14, 16)       0         \n",
            " g2D)                                                            \n",
            "                                                                 \n",
            " conv2d_21 (Conv2D)          (None, 14, 14, 16)        1040      \n",
            "                                                                 \n",
            " max_pooling2d_21 (MaxPoolin  (None, 7, 7, 16)         0         \n",
            " g2D)                                                            \n",
            "                                                                 \n",
            " flatten_5 (Flatten)         (None, 784)               0         \n",
            "                                                                 \n",
            " dense_22 (Dense)            (None, 500)               392500    \n",
            "                                                                 \n",
            " dense_23 (Dense)            (None, 500)               250500    \n",
            "                                                                 \n",
            " dense_24 (Dense)            (None, 500)               250500    \n",
            "                                                                 \n",
            " dense_25 (Dense)            (None, 500)               250500    \n",
            "                                                                 \n",
            " dense_26 (Dense)            (None, 500)               250500    \n",
            "                                                                 \n",
            " dense_27 (Dense)            (None, 4)                 2004      \n",
            "                                                                 \n",
            "=================================================================\n",
            "Total params: 1,400,872\n",
            "Trainable params: 1,400,872\n",
            "Non-trainable params: 0\n",
            "_________________________________________________________________\n"
          ]
        }
      ]
    },
    {
      "cell_type": "code",
      "source": [
        "model.compile(loss='categorical_crossentropy',optimizer='adam',metrics=['accuracy'])\n"
      ],
      "metadata": {
        "id": "y-dSRqSM88Ka"
      },
      "execution_count": null,
      "outputs": []
    },
    {
      "cell_type": "code",
      "source": [
        "#Training the model\n",
        "history = model.fit(train_gen,validation_data=val_gen,epochs=15) "
      ],
      "metadata": {
        "colab": {
          "base_uri": "https://localhost:8080/"
        },
        "id": "UFTuWd2o9FnX",
        "outputId": "851f2746-007e-43b5-f0ce-8344418820d9"
      },
      "execution_count": null,
      "outputs": [
        {
          "output_type": "stream",
          "name": "stdout",
          "text": [
            "Epoch 1/15\n",
            "125/125 [==============================] - 152s 1s/step - loss: 1.7767 - accuracy: 0.3002 - val_loss: 1.2733 - val_accuracy: 0.3736\n",
            "Epoch 2/15\n",
            "125/125 [==============================] - 150s 1s/step - loss: 1.0949 - accuracy: 0.4621 - val_loss: 0.9513 - val_accuracy: 0.5530\n",
            "Epoch 3/15\n",
            "125/125 [==============================] - 152s 1s/step - loss: 0.8193 - accuracy: 0.6195 - val_loss: 0.7377 - val_accuracy: 0.6586\n",
            "Epoch 4/15\n",
            "125/125 [==============================] - 153s 1s/step - loss: 0.5954 - accuracy: 0.7211 - val_loss: 0.4872 - val_accuracy: 0.7607\n",
            "Epoch 5/15\n",
            "125/125 [==============================] - 151s 1s/step - loss: 0.5102 - accuracy: 0.7695 - val_loss: 0.5323 - val_accuracy: 0.7687\n",
            "Epoch 6/15\n",
            "125/125 [==============================] - 150s 1s/step - loss: 0.4068 - accuracy: 0.8242 - val_loss: 0.3583 - val_accuracy: 0.8416\n",
            "Epoch 7/15\n",
            "125/125 [==============================] - 151s 1s/step - loss: 0.3068 - accuracy: 0.8635 - val_loss: 0.3479 - val_accuracy: 0.8487\n",
            "Epoch 8/15\n",
            "125/125 [==============================] - 152s 1s/step - loss: 0.3576 - accuracy: 0.8496 - val_loss: 0.2995 - val_accuracy: 0.8688\n",
            "Epoch 9/15\n",
            "125/125 [==============================] - 151s 1s/step - loss: 0.2772 - accuracy: 0.8878 - val_loss: 0.4571 - val_accuracy: 0.8175\n",
            "Epoch 10/15\n",
            "125/125 [==============================] - 153s 1s/step - loss: 0.2504 - accuracy: 0.8963 - val_loss: 0.2300 - val_accuracy: 0.8969\n",
            "Epoch 11/15\n",
            "125/125 [==============================] - 152s 1s/step - loss: 0.2010 - accuracy: 0.9185 - val_loss: 0.3285 - val_accuracy: 0.8678\n",
            "Epoch 12/15\n",
            "125/125 [==============================] - 149s 1s/step - loss: 0.1833 - accuracy: 0.9247 - val_loss: 0.3603 - val_accuracy: 0.8602\n",
            "Epoch 13/15\n",
            "125/125 [==============================] - 152s 1s/step - loss: 0.1604 - accuracy: 0.9372 - val_loss: 0.1663 - val_accuracy: 0.9326\n",
            "Epoch 14/15\n",
            "125/125 [==============================] - 149s 1s/step - loss: 0.1561 - accuracy: 0.9366 - val_loss: 0.1794 - val_accuracy: 0.9221\n",
            "Epoch 15/15\n",
            "125/125 [==============================] - 150s 1s/step - loss: 0.1269 - accuracy: 0.9508 - val_loss: 0.1538 - val_accuracy: 0.9412\n"
          ]
        }
      ]
    },
    {
      "cell_type": "code",
      "source": [
        ""
      ],
      "metadata": {
        "id": "V6kO_7799iND"
      },
      "execution_count": null,
      "outputs": []
    }
  ]
}